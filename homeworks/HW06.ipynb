{
 "cells": [
  {
   "cell_type": "markdown",
   "metadata": {},
   "source": [
    "# HW06: ML and Causal Inference (due November 9th)\n",
    "\n",
    "**As a first part of THIS WEEK'S homework (HW06) you will have to provide feedback to two of your classmates' essays on Eduflow.** On Eduflow, you will be automatically assigned to the two essays you have to provide feedback to on Friday, in case you want to start ahead.\n",
    "\n",
    "### For the coding part of the homework, you will have to solve only one of the three exercises."
   ]
  },
  {
   "cell_type": "markdown",
   "metadata": {},
   "source": [
    "## Exercise 1: Double Machine learning with XGboost\n",
    "\n",
    "In this exercise you will investigate a research question similar to the one in HW02. Namely, what is the effect of being in a Union on wages? You will use the same data as in HW02 (description of the variables can be found [here](https://rdrr.io/rforge/sampleSelection/man/nlswork.html)). Although, here instead of just including controls, you will estimate the effect of union membership on wages using double machine learning and you will use XGboost as machine learning algorithm. The regression of reference is the following: \n",
    "\n",
    "<center> $ln\\_wage_i = \\beta_0 + \\beta_1 union_i +\\varepsilon_i$ </center>"
   ]
  },
  {
   "cell_type": "code",
   "execution_count": null,
   "metadata": {},
   "outputs": [],
   "source": [
    "# Load Data (NLSY)\n",
    "import pandas as pd\n",
    "df = pd.read_stata('http://www.stata-press.com/data/r16/nlswork.dta')\n",
    "df = df.dropna()"
   ]
  },
  {
   "cell_type": "code",
   "execution_count": null,
   "metadata": {},
   "outputs": [],
   "source": [
    "df.head()"
   ]
  },
  {
   "cell_type": "code",
   "execution_count": null,
   "metadata": {},
   "outputs": [],
   "source": [
    "import numpy as np\n",
    "Y = df['ln_wage']\n",
    "D = df['union']"
   ]
  },
  {
   "cell_type": "code",
   "execution_count": null,
   "metadata": {},
   "outputs": [],
   "source": [
    "import statsmodels.formula.api as smf\n",
    "\n",
    "## Run the regression written above"
   ]
  },
  {
   "cell_type": "markdown",
   "metadata": {},
   "source": [
    "**What could be potential sources of bias (i.e. confounders)?**"
   ]
  },
  {
   "cell_type": "code",
   "execution_count": null,
   "metadata": {},
   "outputs": [],
   "source": [
    "# fill in X with all predictors that are not colliders\n",
    "X = df[['age', 'year', #TODO ]]"
   ]
  },
  {
   "cell_type": "code",
   "execution_count": null,
   "metadata": {},
   "outputs": [],
   "source": [
    "# split into sample A and sample B\n",
    "#TODO\n",
    "\n",
    "# Within each sample, make a validation set for xgboost early stopping\n",
    "#TODO"
   ]
  },
  {
   "cell_type": "code",
   "execution_count": null,
   "metadata": {},
   "outputs": [],
   "source": [
    "# Step 1. In both samples, train an xgboost regressor model to predict log wages (outcome Y)\n",
    "# use early stopping.\n",
    "from xgboost import XGBRegressor\n",
    "xgbr_a = XGBRegressor()\n",
    "xgbr_b = XGBRegressor()\n"
   ]
  },
  {
   "cell_type": "code",
   "execution_count": null,
   "metadata": {},
   "outputs": [],
   "source": [
    "# Step 2. In both samples, train an xgboost classifier model to predict union status (treatment D)\n",
    "# use early stopping.\n",
    "from xgboost import XGBClassifier\n",
    "xgbc_a = XGBClassifier()\n",
    "xgbc_b = XGBClassifier()"
   ]
  },
  {
   "cell_type": "code",
   "execution_count": null,
   "metadata": {},
   "outputs": [],
   "source": [
    "# Step 3. Cross-fitting: Form predictions in other sample.\n",
    "\n",
    "# predict wages in sample A using model trained in sample B:\n",
    "Y_hat_A = #TODO\n",
    "\n",
    "# vice versa:\n",
    "#TODO\n",
    "    \n",
    "# predict union status in sample A using model trained in sample B:\n",
    "#TODO\n",
    "    \n",
    "# vice versa:\n",
    "#TODO\n",
    "    "
   ]
  },
  {
   "cell_type": "markdown",
   "metadata": {},
   "source": [
    "Recall that residuals for a variable $Z_i$ are computed as follows:\n",
    "\n",
    "<center>$\\tilde{Z}_i = Z_i - \\hat{Z}_i$</center>\n",
    "\n",
    "where $\\hat{Z}_i$ is the predicted value of $Z_i$"
   ]
  },
  {
   "cell_type": "code",
   "execution_count": null,
   "metadata": {},
   "outputs": [],
   "source": [
    "# Compute residuals for wages and union status.\n",
    "\n",
    "# residualized wages in samples A and B:\n",
    "y_tilde_A =  #TODO\n",
    "y_tilde_B =  #TODO\n",
    "\n",
    "# residualized union status in samples A and B:\n",
    "D_tilde_A =  #TODO\n",
    "D_tilde_B =  #TODO"
   ]
  },
  {
   "cell_type": "code",
   "execution_count": null,
   "metadata": {},
   "outputs": [],
   "source": [
    "# Step 4. Run OLS regressions of the residualized variables and produce Double ML estimate\n",
    "## use robust standard errors \n",
    "\n",
    "\n",
    "res_A = smf.OLS()\n",
    "beta_A = res_A.params\n",
    "se_A = res_A.bse\n",
    "\n",
    "res_B = smf.OLS()\n",
    "beta_B = res_B.params\n",
    "se_B = result_B.bse\n",
    "\n",
    "##Take the average of the two coefficient and standard errors and show the result\n"
   ]
  },
  {
   "cell_type": "markdown",
   "metadata": {},
   "source": [
    "**Compare the estimates form this and the previous regression. How do these change?**"
   ]
  },
  {
   "cell_type": "markdown",
   "metadata": {},
   "source": [
    "**Interpret the coefficient from the double ml approach. Can it be interpreted as causal?**"
   ]
  },
  {
   "cell_type": "markdown",
   "metadata": {},
   "source": [
    "## Exercise 2: Synthetic Control Method\n",
    "\n",
    "In this exercise we will investigate the economic effects of conflict by focusing on the Basque Country. In particular, we will focus on terrorist conflicts in late 1960's in this area and use as comparison group all other regions of Spain that did not experience terrorism. The (raw) reference regression is the following:\n",
    "\n",
    "<center>$gdpcap_r = \\beta_0 + \\beta_1 terrorism_r + \\varepsilon_r$</center>\n",
    "\n",
    "where $gdpcap_r$ is GDP per capita in region $r$ and $terrorism_r$ is a dummy equal to 1 if terrorist conflict happened in that region."
   ]
  },
  {
   "cell_type": "code",
   "execution_count": null,
   "metadata": {},
   "outputs": [],
   "source": [
    "##note that to work correctly you will also have to downgrade scipy to version 1.4.1\n",
    "!pip install scipy==1.4.1\n",
    "!pip install SyntheticControlMethods\n",
    "\n",
    "#restart the kernel after downrgading scipy"
   ]
  },
  {
   "cell_type": "code",
   "execution_count": 1,
   "metadata": {},
   "outputs": [
    {
     "data": {
      "text/html": [
       "<div>\n",
       "<style scoped>\n",
       "    .dataframe tbody tr th:only-of-type {\n",
       "        vertical-align: middle;\n",
       "    }\n",
       "\n",
       "    .dataframe tbody tr th {\n",
       "        vertical-align: top;\n",
       "    }\n",
       "\n",
       "    .dataframe thead th {\n",
       "        text-align: right;\n",
       "    }\n",
       "</style>\n",
       "<table border=\"1\" class=\"dataframe\">\n",
       "  <thead>\n",
       "    <tr style=\"text-align: right;\">\n",
       "      <th></th>\n",
       "      <th>regionname</th>\n",
       "      <th>year</th>\n",
       "      <th>gdpcap</th>\n",
       "      <th>sec.agriculture</th>\n",
       "      <th>sec.energy</th>\n",
       "      <th>sec.industry</th>\n",
       "      <th>sec.construction</th>\n",
       "      <th>sec.services.venta</th>\n",
       "      <th>sec.services.nonventa</th>\n",
       "      <th>school.illit</th>\n",
       "      <th>school.prim</th>\n",
       "      <th>school.med</th>\n",
       "      <th>school.high</th>\n",
       "      <th>school.post.high</th>\n",
       "      <th>popdens</th>\n",
       "      <th>invest</th>\n",
       "      <th>terrorism</th>\n",
       "    </tr>\n",
       "  </thead>\n",
       "  <tbody>\n",
       "    <tr>\n",
       "      <th>43</th>\n",
       "      <td>Andalucia</td>\n",
       "      <td>1955</td>\n",
       "      <td>1.688732</td>\n",
       "      <td>NaN</td>\n",
       "      <td>NaN</td>\n",
       "      <td>NaN</td>\n",
       "      <td>NaN</td>\n",
       "      <td>NaN</td>\n",
       "      <td>NaN</td>\n",
       "      <td>NaN</td>\n",
       "      <td>NaN</td>\n",
       "      <td>NaN</td>\n",
       "      <td>NaN</td>\n",
       "      <td>NaN</td>\n",
       "      <td>NaN</td>\n",
       "      <td>NaN</td>\n",
       "      <td>0</td>\n",
       "    </tr>\n",
       "    <tr>\n",
       "      <th>44</th>\n",
       "      <td>Andalucia</td>\n",
       "      <td>1956</td>\n",
       "      <td>1.758498</td>\n",
       "      <td>NaN</td>\n",
       "      <td>NaN</td>\n",
       "      <td>NaN</td>\n",
       "      <td>NaN</td>\n",
       "      <td>NaN</td>\n",
       "      <td>NaN</td>\n",
       "      <td>NaN</td>\n",
       "      <td>NaN</td>\n",
       "      <td>NaN</td>\n",
       "      <td>NaN</td>\n",
       "      <td>NaN</td>\n",
       "      <td>NaN</td>\n",
       "      <td>NaN</td>\n",
       "      <td>0</td>\n",
       "    </tr>\n",
       "    <tr>\n",
       "      <th>45</th>\n",
       "      <td>Andalucia</td>\n",
       "      <td>1957</td>\n",
       "      <td>1.827621</td>\n",
       "      <td>NaN</td>\n",
       "      <td>NaN</td>\n",
       "      <td>NaN</td>\n",
       "      <td>NaN</td>\n",
       "      <td>NaN</td>\n",
       "      <td>NaN</td>\n",
       "      <td>NaN</td>\n",
       "      <td>NaN</td>\n",
       "      <td>NaN</td>\n",
       "      <td>NaN</td>\n",
       "      <td>NaN</td>\n",
       "      <td>NaN</td>\n",
       "      <td>NaN</td>\n",
       "      <td>0</td>\n",
       "    </tr>\n",
       "    <tr>\n",
       "      <th>46</th>\n",
       "      <td>Andalucia</td>\n",
       "      <td>1958</td>\n",
       "      <td>1.852756</td>\n",
       "      <td>NaN</td>\n",
       "      <td>NaN</td>\n",
       "      <td>NaN</td>\n",
       "      <td>NaN</td>\n",
       "      <td>NaN</td>\n",
       "      <td>NaN</td>\n",
       "      <td>NaN</td>\n",
       "      <td>NaN</td>\n",
       "      <td>NaN</td>\n",
       "      <td>NaN</td>\n",
       "      <td>NaN</td>\n",
       "      <td>NaN</td>\n",
       "      <td>NaN</td>\n",
       "      <td>0</td>\n",
       "    </tr>\n",
       "    <tr>\n",
       "      <th>47</th>\n",
       "      <td>Andalucia</td>\n",
       "      <td>1959</td>\n",
       "      <td>1.878035</td>\n",
       "      <td>NaN</td>\n",
       "      <td>NaN</td>\n",
       "      <td>NaN</td>\n",
       "      <td>NaN</td>\n",
       "      <td>NaN</td>\n",
       "      <td>NaN</td>\n",
       "      <td>NaN</td>\n",
       "      <td>NaN</td>\n",
       "      <td>NaN</td>\n",
       "      <td>NaN</td>\n",
       "      <td>NaN</td>\n",
       "      <td>NaN</td>\n",
       "      <td>NaN</td>\n",
       "      <td>0</td>\n",
       "    </tr>\n",
       "  </tbody>\n",
       "</table>\n",
       "</div>"
      ],
      "text/plain": [
       "   regionname  year    gdpcap  sec.agriculture  sec.energy  sec.industry  \\\n",
       "43  Andalucia  1955  1.688732              NaN         NaN           NaN   \n",
       "44  Andalucia  1956  1.758498              NaN         NaN           NaN   \n",
       "45  Andalucia  1957  1.827621              NaN         NaN           NaN   \n",
       "46  Andalucia  1958  1.852756              NaN         NaN           NaN   \n",
       "47  Andalucia  1959  1.878035              NaN         NaN           NaN   \n",
       "\n",
       "    sec.construction  sec.services.venta  sec.services.nonventa  school.illit  \\\n",
       "43               NaN                 NaN                    NaN           NaN   \n",
       "44               NaN                 NaN                    NaN           NaN   \n",
       "45               NaN                 NaN                    NaN           NaN   \n",
       "46               NaN                 NaN                    NaN           NaN   \n",
       "47               NaN                 NaN                    NaN           NaN   \n",
       "\n",
       "    school.prim  school.med  school.high  school.post.high  popdens  invest  \\\n",
       "43          NaN         NaN          NaN               NaN      NaN     NaN   \n",
       "44          NaN         NaN          NaN               NaN      NaN     NaN   \n",
       "45          NaN         NaN          NaN               NaN      NaN     NaN   \n",
       "46          NaN         NaN          NaN               NaN      NaN     NaN   \n",
       "47          NaN         NaN          NaN               NaN      NaN     NaN   \n",
       "\n",
       "    terrorism  \n",
       "43          0  \n",
       "44          0  \n",
       "45          0  \n",
       "46          0  \n",
       "47          0  "
      ]
     },
     "execution_count": 1,
     "metadata": {},
     "output_type": "execute_result"
    }
   ],
   "source": [
    "import pandas as pd\n",
    "import statsmodels.formula.api as smf\n",
    "\n",
    "df = pd.read_csv('data/HW06_data_scm.csv')\n",
    "del df['Unnamed: 0']\n",
    "del df['regionno']\n",
    "df = df.loc[df[\"regionname\"] != \"Spain (Espana)\"] \n",
    "\n",
    "df['terrorism'] = df['regionname']=='Basque Country (Pais Vasco)'\n",
    "df['terrorism'] = df['terrorism'].astype('int')\n",
    "df.head()"
   ]
  },
  {
   "cell_type": "code",
   "execution_count": 2,
   "metadata": {},
   "outputs": [],
   "source": [
    "import seaborn as sns\n",
    "\n",
    "##plot gdp per capita over time separately for basque country and other regions of spain\n",
    "## (i.e., separately for terrorism == 1 or 0)"
   ]
  },
  {
   "cell_type": "markdown",
   "metadata": {},
   "source": [
    "**Does the parallel trend assumption hold? If not, why do you think this is the case?**"
   ]
  },
  {
   "cell_type": "code",
   "execution_count": null,
   "metadata": {},
   "outputs": [],
   "source": [
    "## run a regression of terrorism on gdp per capita"
   ]
  },
  {
   "cell_type": "markdown",
   "metadata": {},
   "source": [
    "**What could be potential threats to a causal interpretation of this result?**"
   ]
  },
  {
   "cell_type": "code",
   "execution_count": 3,
   "metadata": {},
   "outputs": [],
   "source": [
    "from SyntheticControlMethods import Synth, DiffSynth\n",
    "del df['terrorism']\n",
    "\n",
    "##fit the synthetic control \n"
   ]
  },
  {
   "cell_type": "code",
   "execution_count": null,
   "metadata": {},
   "outputs": [],
   "source": [
    "##visualize the plot \n"
   ]
  },
  {
   "cell_type": "markdown",
   "metadata": {},
   "source": [
    "**What can you conclude about the effect of conflict on GDP?**"
   ]
  },
  {
   "cell_type": "code",
   "execution_count": 8,
   "metadata": {},
   "outputs": [],
   "source": [
    "## Show which spanish regions were used to create the synthetic control"
   ]
  },
  {
   "cell_type": "markdown",
   "metadata": {},
   "source": [
    "## Exercise 3: Heterogenous Treatment Effects\n",
    "\n",
    "In this exercise we will investigate the effect of case management on mental health outcomes. These data come from a randomized control trial where patients were assigned to *intensive* or *standard* case management. In this context, the treatment is being assigned to the **intensive** case management while patients assigned to the **standard** case management belong to the control group..\n",
    "\n",
    "In this exercise we will focus on heterogenous treatment effects, rather than on isolating the casual effect of the treatment. In particular, we will investigate characteristics of individuals who are most and least responsive to the treatment, i.e., to being assigned to the intensive case management. "
   ]
  },
  {
   "cell_type": "code",
   "execution_count": 9,
   "metadata": {},
   "outputs": [
    {
     "data": {
      "text/plain": [
       "{'trialid': 'Trial ID',\n",
       " 'centreid': 'Trial centre',\n",
       " 'status': 'Patient status at baseline',\n",
       " 'age': 'Age in years at baseline',\n",
       " 'sex': 'Sex',\n",
       " 'afcarib': 'Ethnic group',\n",
       " 'ocfabth': \"Father's social class at birth\",\n",
       " 'chron1l': 'Months since onset of psychosis, logged',\n",
       " 'hos94': 'Days in hospital for psychiatric reasons: 2 years before baseline',\n",
       " 'cprs94': 'Psychopathology at baseline (CPRS)',\n",
       " 'das94': 'Disability at baseline (DAS)',\n",
       " 'sat94': '(Dis)satisfaction with services at baseline',\n",
       " 'rand': 'Randomised group',\n",
       " 'hos96': 'Days in hospital for psychiatric reasons: 2 years after baseline',\n",
       " 'cprs96': 'Psychopathology at 2 years (CPRS)',\n",
       " 'sat96': '(Dis)satisfaction with services at 2 years'}"
      ]
     },
     "execution_count": 9,
     "metadata": {},
     "output_type": "execute_result"
    }
   ],
   "source": [
    "import pandas as pd\n",
    "import statsmodels.formula.api as smf\n",
    "\n",
    "df = pd.read_stata('http://www.homepages.ucl.ac.uk/~rmjwiww/stata/missing/uk500.dta')\n",
    "df = df.dropna()\n",
    "pd.read_stata('http://www.homepages.ucl.ac.uk/~rmjwiww/stata/missing/uk500.dta', iterator=True).variable_labels()"
   ]
  },
  {
   "cell_type": "code",
   "execution_count": 10,
   "metadata": {},
   "outputs": [
    {
     "data": {
      "text/html": [
       "<div>\n",
       "<style scoped>\n",
       "    .dataframe tbody tr th:only-of-type {\n",
       "        vertical-align: middle;\n",
       "    }\n",
       "\n",
       "    .dataframe tbody tr th {\n",
       "        vertical-align: top;\n",
       "    }\n",
       "\n",
       "    .dataframe thead th {\n",
       "        text-align: right;\n",
       "    }\n",
       "</style>\n",
       "<table border=\"1\" class=\"dataframe\">\n",
       "  <thead>\n",
       "    <tr style=\"text-align: right;\">\n",
       "      <th></th>\n",
       "      <th>trialid</th>\n",
       "      <th>centreid</th>\n",
       "      <th>status</th>\n",
       "      <th>age</th>\n",
       "      <th>sex</th>\n",
       "      <th>afcarib</th>\n",
       "      <th>ocfabth</th>\n",
       "      <th>chron1l</th>\n",
       "      <th>hos94</th>\n",
       "      <th>cprs94</th>\n",
       "      <th>das94</th>\n",
       "      <th>sat94</th>\n",
       "      <th>rand</th>\n",
       "      <th>hos96</th>\n",
       "      <th>cprs96</th>\n",
       "      <th>sat96</th>\n",
       "    </tr>\n",
       "  </thead>\n",
       "  <tbody>\n",
       "    <tr>\n",
       "      <th>1</th>\n",
       "      <td>107.0</td>\n",
       "      <td>St George's</td>\n",
       "      <td>Out-patient</td>\n",
       "      <td>27.0</td>\n",
       "      <td>male</td>\n",
       "      <td>Other</td>\n",
       "      <td>A</td>\n",
       "      <td>3.178054</td>\n",
       "      <td>80.0</td>\n",
       "      <td>4.0</td>\n",
       "      <td>0.285714</td>\n",
       "      <td>18.0</td>\n",
       "      <td>Intensive case management</td>\n",
       "      <td>27.0</td>\n",
       "      <td>3.0</td>\n",
       "      <td>22.000</td>\n",
       "    </tr>\n",
       "    <tr>\n",
       "      <th>2</th>\n",
       "      <td>222005.0</td>\n",
       "      <td>St Mary's</td>\n",
       "      <td>In hospital</td>\n",
       "      <td>41.0</td>\n",
       "      <td>male</td>\n",
       "      <td>Other</td>\n",
       "      <td>D</td>\n",
       "      <td>4.521789</td>\n",
       "      <td>240.0</td>\n",
       "      <td>6.0</td>\n",
       "      <td>0.750000</td>\n",
       "      <td>15.0</td>\n",
       "      <td>Intensive case management</td>\n",
       "      <td>15.0</td>\n",
       "      <td>13.0</td>\n",
       "      <td>9.000</td>\n",
       "    </tr>\n",
       "    <tr>\n",
       "      <th>3</th>\n",
       "      <td>222018.0</td>\n",
       "      <td>St Mary's</td>\n",
       "      <td>In hospital</td>\n",
       "      <td>25.0</td>\n",
       "      <td>male</td>\n",
       "      <td>Other</td>\n",
       "      <td>C2</td>\n",
       "      <td>4.094345</td>\n",
       "      <td>48.0</td>\n",
       "      <td>12.0</td>\n",
       "      <td>0.125000</td>\n",
       "      <td>18.0</td>\n",
       "      <td>Intensive case management</td>\n",
       "      <td>263.0</td>\n",
       "      <td>6.0</td>\n",
       "      <td>21.375</td>\n",
       "    </tr>\n",
       "    <tr>\n",
       "      <th>5</th>\n",
       "      <td>312015.0</td>\n",
       "      <td>King's</td>\n",
       "      <td>Out-patient</td>\n",
       "      <td>31.0</td>\n",
       "      <td>female</td>\n",
       "      <td>Other</td>\n",
       "      <td>A</td>\n",
       "      <td>4.787492</td>\n",
       "      <td>60.0</td>\n",
       "      <td>28.0</td>\n",
       "      <td>2.375000</td>\n",
       "      <td>20.0</td>\n",
       "      <td>Intensive case management</td>\n",
       "      <td>45.0</td>\n",
       "      <td>19.0</td>\n",
       "      <td>17.000</td>\n",
       "    </tr>\n",
       "    <tr>\n",
       "      <th>6</th>\n",
       "      <td>221023.0</td>\n",
       "      <td>St Mary's</td>\n",
       "      <td>In hospital</td>\n",
       "      <td>35.0</td>\n",
       "      <td>male</td>\n",
       "      <td>Afro-Caribbean</td>\n",
       "      <td>C2</td>\n",
       "      <td>4.430817</td>\n",
       "      <td>60.0</td>\n",
       "      <td>25.0</td>\n",
       "      <td>1.571428</td>\n",
       "      <td>24.0</td>\n",
       "      <td>Intensive case management</td>\n",
       "      <td>58.0</td>\n",
       "      <td>27.0</td>\n",
       "      <td>19.125</td>\n",
       "    </tr>\n",
       "  </tbody>\n",
       "</table>\n",
       "</div>"
      ],
      "text/plain": [
       "    trialid     centreid       status   age     sex         afcarib ocfabth  \\\n",
       "1     107.0  St George's  Out-patient  27.0    male           Other       A   \n",
       "2  222005.0    St Mary's  In hospital  41.0    male           Other       D   \n",
       "3  222018.0    St Mary's  In hospital  25.0    male           Other      C2   \n",
       "5  312015.0       King's  Out-patient  31.0  female           Other       A   \n",
       "6  221023.0    St Mary's  In hospital  35.0    male  Afro-Caribbean      C2   \n",
       "\n",
       "    chron1l  hos94  cprs94     das94  sat94                       rand  hos96  \\\n",
       "1  3.178054   80.0     4.0  0.285714   18.0  Intensive case management   27.0   \n",
       "2  4.521789  240.0     6.0  0.750000   15.0  Intensive case management   15.0   \n",
       "3  4.094345   48.0    12.0  0.125000   18.0  Intensive case management  263.0   \n",
       "5  4.787492   60.0    28.0  2.375000   20.0  Intensive case management   45.0   \n",
       "6  4.430817   60.0    25.0  1.571428   24.0  Intensive case management   58.0   \n",
       "\n",
       "   cprs96   sat96  \n",
       "1     3.0  22.000  \n",
       "2    13.0   9.000  \n",
       "3     6.0  21.375  \n",
       "5    19.0  17.000  \n",
       "6    27.0  19.125  "
      ]
     },
     "execution_count": 10,
     "metadata": {},
     "output_type": "execute_result"
    }
   ],
   "source": [
    "df.head()"
   ]
  },
  {
   "cell_type": "markdown",
   "metadata": {},
   "source": [
    "The treatment variable is $rand$, the post-treatment outcomes are $hos96$, $cprs96$ and $sat96$."
   ]
  },
  {
   "cell_type": "code",
   "execution_count": 11,
   "metadata": {},
   "outputs": [
    {
     "data": {
      "text/plain": [
       "Intensive case management    130\n",
       "Standard case management     116\n",
       "Name: rand, dtype: int64"
      ]
     },
     "execution_count": 11,
     "metadata": {},
     "output_type": "execute_result"
    }
   ],
   "source": [
    "treatvar = 'rand'\n",
    "df[treatvar].value_counts()"
   ]
  },
  {
   "cell_type": "code",
   "execution_count": 12,
   "metadata": {},
   "outputs": [
    {
     "data": {
      "text/html": [
       "<div>\n",
       "<style scoped>\n",
       "    .dataframe tbody tr th:only-of-type {\n",
       "        vertical-align: middle;\n",
       "    }\n",
       "\n",
       "    .dataframe tbody tr th {\n",
       "        vertical-align: top;\n",
       "    }\n",
       "\n",
       "    .dataframe thead th {\n",
       "        text-align: right;\n",
       "    }\n",
       "</style>\n",
       "<table border=\"1\" class=\"dataframe\">\n",
       "  <thead>\n",
       "    <tr style=\"text-align: right;\">\n",
       "      <th></th>\n",
       "      <th>sat96</th>\n",
       "      <th>hos96</th>\n",
       "      <th>cprs96</th>\n",
       "    </tr>\n",
       "  </thead>\n",
       "  <tbody>\n",
       "    <tr>\n",
       "      <th>count</th>\n",
       "      <td>246.000000</td>\n",
       "      <td>246.000000</td>\n",
       "      <td>246.000000</td>\n",
       "    </tr>\n",
       "    <tr>\n",
       "      <th>mean</th>\n",
       "      <td>17.271341</td>\n",
       "      <td>65.500000</td>\n",
       "      <td>17.790587</td>\n",
       "    </tr>\n",
       "    <tr>\n",
       "      <th>std</th>\n",
       "      <td>4.723009</td>\n",
       "      <td>104.046722</td>\n",
       "      <td>14.090911</td>\n",
       "    </tr>\n",
       "    <tr>\n",
       "      <th>min</th>\n",
       "      <td>9.000000</td>\n",
       "      <td>0.000000</td>\n",
       "      <td>0.000000</td>\n",
       "    </tr>\n",
       "    <tr>\n",
       "      <th>25%</th>\n",
       "      <td>14.000000</td>\n",
       "      <td>0.000000</td>\n",
       "      <td>7.000000</td>\n",
       "    </tr>\n",
       "    <tr>\n",
       "      <th>50%</th>\n",
       "      <td>17.000000</td>\n",
       "      <td>15.000000</td>\n",
       "      <td>15.000000</td>\n",
       "    </tr>\n",
       "    <tr>\n",
       "      <th>75%</th>\n",
       "      <td>20.187500</td>\n",
       "      <td>93.500000</td>\n",
       "      <td>26.000000</td>\n",
       "    </tr>\n",
       "    <tr>\n",
       "      <th>max</th>\n",
       "      <td>32.000000</td>\n",
       "      <td>692.000000</td>\n",
       "      <td>71.000000</td>\n",
       "    </tr>\n",
       "  </tbody>\n",
       "</table>\n",
       "</div>"
      ],
      "text/plain": [
       "            sat96       hos96      cprs96\n",
       "count  246.000000  246.000000  246.000000\n",
       "mean    17.271341   65.500000   17.790587\n",
       "std      4.723009  104.046722   14.090911\n",
       "min      9.000000    0.000000    0.000000\n",
       "25%     14.000000    0.000000    7.000000\n",
       "50%     17.000000   15.000000   15.000000\n",
       "75%     20.187500   93.500000   26.000000\n",
       "max     32.000000  692.000000   71.000000"
      ]
     },
     "execution_count": 12,
     "metadata": {},
     "output_type": "execute_result"
    }
   ],
   "source": [
    "outcomes = ['sat96', 'hos96', 'cprs96']\n",
    "df[outcomes].describe()"
   ]
  },
  {
   "cell_type": "markdown",
   "metadata": {},
   "source": [
    "In addition to these variables we need a set of covariates that we want to use to identify individuals who are most and least responsive to treatment. We also encode categorical covariates and prepare them for the ML model"
   ]
  },
  {
   "cell_type": "code",
   "execution_count": 16,
   "metadata": {},
   "outputs": [
    {
     "data": {
      "text/html": [
       "<div>\n",
       "<style scoped>\n",
       "    .dataframe tbody tr th:only-of-type {\n",
       "        vertical-align: middle;\n",
       "    }\n",
       "\n",
       "    .dataframe tbody tr th {\n",
       "        vertical-align: top;\n",
       "    }\n",
       "\n",
       "    .dataframe thead th {\n",
       "        text-align: right;\n",
       "    }\n",
       "</style>\n",
       "<table border=\"1\" class=\"dataframe\">\n",
       "  <thead>\n",
       "    <tr style=\"text-align: right;\">\n",
       "      <th></th>\n",
       "      <th>status</th>\n",
       "      <th>sex</th>\n",
       "      <th>sat94</th>\n",
       "      <th>ocfabth</th>\n",
       "      <th>hos94</th>\n",
       "      <th>das94</th>\n",
       "      <th>cprs94</th>\n",
       "      <th>age</th>\n",
       "      <th>afcarib</th>\n",
       "    </tr>\n",
       "  </thead>\n",
       "  <tbody>\n",
       "    <tr>\n",
       "      <th>1</th>\n",
       "      <td>1.0</td>\n",
       "      <td>1.0</td>\n",
       "      <td>18.0</td>\n",
       "      <td>0.0</td>\n",
       "      <td>80.0</td>\n",
       "      <td>0.285714</td>\n",
       "      <td>4.0</td>\n",
       "      <td>27.0</td>\n",
       "      <td>1.0</td>\n",
       "    </tr>\n",
       "    <tr>\n",
       "      <th>2</th>\n",
       "      <td>0.0</td>\n",
       "      <td>1.0</td>\n",
       "      <td>15.0</td>\n",
       "      <td>4.0</td>\n",
       "      <td>240.0</td>\n",
       "      <td>0.750000</td>\n",
       "      <td>6.0</td>\n",
       "      <td>41.0</td>\n",
       "      <td>1.0</td>\n",
       "    </tr>\n",
       "    <tr>\n",
       "      <th>3</th>\n",
       "      <td>0.0</td>\n",
       "      <td>1.0</td>\n",
       "      <td>18.0</td>\n",
       "      <td>3.0</td>\n",
       "      <td>48.0</td>\n",
       "      <td>0.125000</td>\n",
       "      <td>12.0</td>\n",
       "      <td>25.0</td>\n",
       "      <td>1.0</td>\n",
       "    </tr>\n",
       "    <tr>\n",
       "      <th>5</th>\n",
       "      <td>1.0</td>\n",
       "      <td>0.0</td>\n",
       "      <td>20.0</td>\n",
       "      <td>0.0</td>\n",
       "      <td>60.0</td>\n",
       "      <td>2.375000</td>\n",
       "      <td>28.0</td>\n",
       "      <td>31.0</td>\n",
       "      <td>1.0</td>\n",
       "    </tr>\n",
       "    <tr>\n",
       "      <th>6</th>\n",
       "      <td>0.0</td>\n",
       "      <td>1.0</td>\n",
       "      <td>24.0</td>\n",
       "      <td>3.0</td>\n",
       "      <td>60.0</td>\n",
       "      <td>1.571428</td>\n",
       "      <td>25.0</td>\n",
       "      <td>35.0</td>\n",
       "      <td>0.0</td>\n",
       "    </tr>\n",
       "  </tbody>\n",
       "</table>\n",
       "</div>"
      ],
      "text/plain": [
       "   status  sex  sat94  ocfabth  hos94     das94  cprs94   age  afcarib\n",
       "1     1.0  1.0   18.0      0.0   80.0  0.285714     4.0  27.0      1.0\n",
       "2     0.0  1.0   15.0      4.0  240.0  0.750000     6.0  41.0      1.0\n",
       "3     0.0  1.0   18.0      3.0   48.0  0.125000    12.0  25.0      1.0\n",
       "5     1.0  0.0   20.0      0.0   60.0  2.375000    28.0  31.0      1.0\n",
       "6     0.0  1.0   24.0      3.0   60.0  1.571428    25.0  35.0      0.0"
      ]
     },
     "execution_count": 16,
     "metadata": {},
     "output_type": "execute_result"
    }
   ],
   "source": [
    "#Encoding Categorical covariates and preparing the data for tensorflow\n",
    "covariates = ['status', 'sex', 'sat94', 'ocfabth', 'hos94', 'das94', 'cprs94', 'age', 'afcarib']\n",
    "covariates_cat = ['status', 'sex', 'ocfabth', 'afcarib']\n",
    "\n",
    "from sklearn.preprocessing import OrdinalEncoder\n",
    "encoder = OrdinalEncoder()\n",
    "df[covariates_cat] = encoder.fit_transform(df[covariates_cat])\n",
    "df[covariates] = df[covariates].astype('float32')\n",
    "df[covariates].head()"
   ]
  },
  {
   "cell_type": "code",
   "execution_count": null,
   "metadata": {},
   "outputs": [],
   "source": [
    "# Subset the dataset by treatment and control\n",
    "# Within each sample, create a training, a test and a validation set\n",
    "\n",
    "df_treat = #TODO\n",
    "df_control = #TODO"
   ]
  },
  {
   "cell_type": "code",
   "execution_count": null,
   "metadata": {},
   "outputs": [],
   "source": [
    "##choose one of the three outcomes to analyze\n",
    "## using xgboost regressor train two model to predict the outcome from the covariates\n",
    "## the first model should be trained on the treated sample, while the second on the control\n",
    "## use early stopping\n",
    "\n",
    "from xgboost import XGBRegressor\n",
    "xgbr_treat = XGBRegressor()\n",
    "xgbr_control = XGBRegressor()"
   ]
  },
  {
   "cell_type": "code",
   "execution_count": null,
   "metadata": {},
   "outputs": [],
   "source": [
    "##get predicted outcomes using the combined test sets for both models \n",
    "\n",
    "test_set = Xtreat_test.append(Xcontrol_test) \n",
    "y_hat_treat = ...\n",
    "y_hat_control = ..."
   ]
  },
  {
   "cell_type": "code",
   "execution_count": null,
   "metadata": {},
   "outputs": [],
   "source": [
    "##find the three individuals in the test set that are most and least responsive to the treatment\n",
    "##namely the three individuals for who the treatment effect is larger and those for who it is smaller\n",
    "\n",
    "test_set['treat_effect'] = ..."
   ]
  },
  {
   "cell_type": "code",
   "execution_count": null,
   "metadata": {},
   "outputs": [],
   "source": [
    "##visualize and comment on the covariates of these individuals "
   ]
  }
 ],
 "metadata": {
  "kernelspec": {
   "display_name": "Python 3.10.6 ('brj')",
   "language": "python",
   "name": "python3"
  },
  "language_info": {
   "codemirror_mode": {
    "name": "ipython",
    "version": 3
   },
   "file_extension": ".py",
   "mimetype": "text/x-python",
   "name": "python",
   "nbconvert_exporter": "python",
   "pygments_lexer": "ipython3",
   "version": "3.10.6"
  },
  "vscode": {
   "interpreter": {
    "hash": "5853e20241d3d666e40b28ebda8be611448fd3759cbfadd5d542a61bed24d48c"
   }
  }
 },
 "nbformat": 4,
 "nbformat_minor": 4
}
